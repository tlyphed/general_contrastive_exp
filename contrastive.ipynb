{
 "cells": [
  {
   "cell_type": "code",
   "execution_count": 37,
   "metadata": {},
   "outputs": [],
   "source": [
    "import pandas as pd\n",
    "import numpy as np\n",
    "from sklearn.datasets import load_breast_cancer\n",
    "from sklearn.model_selection import train_test_split\n",
    "from sklearn.tree import _tree\n",
    "from sklearn.tree import DecisionTreeClassifier\n",
    "from clingo.control import Control\n",
    "from sklearn.metrics import accuracy_score\n",
    "import matplotlib.pyplot as plt\n",
    "from sklearn.tree import plot_tree\n",
    "import openml\n",
    "from sklearn.preprocessing import OneHotEncoder\n",
    "from sklearn.compose import ColumnTransformer\n",
    "\n",
    "np.random.seed(42)"
   ]
  },
  {
   "cell_type": "code",
   "execution_count": 2,
   "metadata": {},
   "outputs": [],
   "source": [
    "def tree_to_cnf(tree, feature_names):\n",
    "    tree = tree.tree_\n",
    "    positive_clauses = []\n",
    "    negative_clauses = []\n",
    "    var_mapping = {}\n",
    "    var_counter = [1]  # Mutable counter\n",
    "\n",
    "    def fresh_var():\n",
    "        name = f'p{var_counter[0]}'\n",
    "        var_counter[0] += 1\n",
    "        return name\n",
    "\n",
    "    def traverse(node, path):\n",
    "        if tree.feature[node] == _tree.TREE_UNDEFINED:\n",
    "            if tree.value[node][0, 1] > tree.value[node][0, 0]:\n",
    "                positive_clauses.append(path)\n",
    "            else:\n",
    "                negative_clauses.append(path)\n",
    "        else:\n",
    "            feature_index = tree.feature[node]\n",
    "            threshold = round(tree.threshold[node], 4)\n",
    "            feature = feature_names[feature_index]\n",
    "\n",
    "            # Search for an existing variable with the same [feature, threshold]\n",
    "            existing_var = None\n",
    "            for var, pair in var_mapping.items():\n",
    "                if pair == [feature, threshold]:\n",
    "                    existing_var = var\n",
    "                    break\n",
    "\n",
    "            if existing_var is not None:\n",
    "                var = existing_var  # Reuse the existing variable\n",
    "            else:\n",
    "                var = fresh_var()\n",
    "                var_mapping[var] = [feature, threshold]\n",
    "\n",
    "            # Left: feature <= threshold  → -var\n",
    "            traverse(\n",
    "                tree.children_left[node],\n",
    "                path + [f'-{var}']\n",
    "            )\n",
    "\n",
    "            # Right: feature > threshold → var\n",
    "            traverse(\n",
    "                tree.children_right[node],\n",
    "                path + [var]\n",
    "            )\n",
    "\n",
    "    # Start traversal from root\n",
    "    traverse(0, [])\n",
    "\n",
    "    # Construct CNF formulas\n",
    "    cnf_formula_neg = ' & '.join([' | '.join(clause) for clause in negative_clauses])\n",
    "    cnf_formula_pos = ' & '.join([' | '.join(clause) for clause in positive_clauses])\n",
    "\n",
    "    return {\n",
    "        'positive_cnf': cnf_formula_pos,\n",
    "        'negative_cnf': cnf_formula_neg,\n",
    "        'var_mapping': var_mapping\n",
    "    }"
   ]
  },
  {
   "cell_type": "code",
   "execution_count": 3,
   "metadata": {},
   "outputs": [],
   "source": [
    "ENC = {\n",
    "    \"GLOBAL_CE\" : \"prototype/enc_def3.lp\",\n",
    "    \"CF_CE\"     : \"prototype/enc_def5.lp\",\n",
    "    \"CF_DIFF\"   : \"prototype/enc_def6.lp\"\n",
    "}\n",
    "\n",
    "def __parse_cnf(str):\n",
    "    cnf = []\n",
    "    for str_cl in str.split(\"&\"):\n",
    "        cl = []\n",
    "        for str_lit in str_cl.split(\"|\"):\n",
    "            s = str_lit.strip()\n",
    "            if s.startswith('-'):\n",
    "                cl.append((s[1:],False))\n",
    "            else:\n",
    "                cl.append((s,True))\n",
    "        cnf.append(cl)\n",
    "    \n",
    "    return cnf\n",
    "\n",
    "def __cnf_to_facts(instance_cnf,fact_cnf,foil_cnf):\n",
    "    facts = []\n",
    "    i = 1\n",
    "    for cl in instance_cnf:\n",
    "        facts.append(f\"instance_cl({i}).\")\n",
    "        for l,t in cl:\n",
    "            sign = \"t\" if t else \"f\"\n",
    "            facts.append(f\"lit({i},{l},{sign}).\")\n",
    "        i += 1\n",
    "    for cl in fact_cnf:\n",
    "        facts.append(f\"fact_cl({i}).\")\n",
    "        for l,t in cl:\n",
    "            sign = \"t\" if t else \"f\"\n",
    "            facts.append(f\"lit({i},{l},{sign}).\")\n",
    "        i += 1\n",
    "    for cl in foil_cnf:\n",
    "        facts.append(f\"foil_cl({i}).\")\n",
    "        for l,t in cl:\n",
    "            sign = \"t\" if t else \"f\"\n",
    "            facts.append(f\"lit({i},{l},{sign}).\")\n",
    "        i += 1\n",
    "        \n",
    "    return facts\n",
    "\n",
    "\n",
    "def __cnf_to_str(cnf):\n",
    "    cl_str = []\n",
    "    for cl in cnf:\n",
    "        parse_lit = lambda l,s: l if s else f\"-{l}\" \n",
    "        cl_str.append(\" | \".join([ parse_lit(l,s) for l,s in cl ]))\n",
    "    \n",
    "    return \"  &  \".join(cl_str)\n",
    "\n",
    "\n",
    "def __parse_answer_set(answer_set):\n",
    "    theta = {}\n",
    "    theta_p = {}\n",
    "    chi = {}\n",
    "    for sym in answer_set.symbols(shown=True):\n",
    "        if sym.match('theta_lit',3):\n",
    "            c = sym.arguments[0].number\n",
    "            l = str(sym.arguments[1])\n",
    "            s = str(sym.arguments[2])\n",
    "\n",
    "            if c not in theta:\n",
    "                theta[c] = []\n",
    "            theta[c].append((l,s == \"t\"))\n",
    "        elif sym.match('theta_p_lit',3):\n",
    "            c = sym.arguments[0].number\n",
    "            l = str(sym.arguments[1])\n",
    "            s = str(sym.arguments[2])\n",
    "\n",
    "            if c not in theta_p:\n",
    "                theta_p[c] = []\n",
    "            theta_p[c].append((l,s == \"t\"))\n",
    "        elif sym.match('chi_lit',3):\n",
    "            c = sym.arguments[0].number\n",
    "            l = str(sym.arguments[1])\n",
    "            s = str(sym.arguments[2])\n",
    "\n",
    "            if c not in chi:\n",
    "                chi[c] = []\n",
    "            chi[c].append((l,s == \"t\"))\n",
    "\n",
    "    \n",
    "    return (list(dict(sorted(theta.items())).values()), \n",
    "            list(dict(sorted(theta_p.items())).values()), \n",
    "            list(dict(sorted(chi.items())).values()))\n",
    "\n",
    "\n",
    "def __clingo_solve(encoding, n_models=1, max_clauses=5, max_lits=1):\n",
    "    ctl = Control(['-Wnone', '--opt-mode=optN', '-t8', f'-c n_clauses={max_clauses}' , f'-c n_lits={max_lits}', '--verbose'])\n",
    "    ctl.add(encoding)\n",
    "    ctl.ground([(\"base\", [])])\n",
    "    answer_set = None\n",
    "    cost = None\n",
    "    opt_models = 0\n",
    "    def on_model(model):\n",
    "        nonlocal answer_set, cost, opt_models\n",
    "        prev_cost = cost\n",
    "        cost = model.cost\n",
    "        if prev_cost == cost:\n",
    "            opt_models += 1\n",
    "            theta, theta_p, chi  = __parse_answer_set(model)\n",
    "            answer_set = theta, theta_p, chi\n",
    "            print(f\"SOLUTION (cost {cost}):\")\n",
    "            print(\"Theta:\")\n",
    "            print(__cnf_to_str(theta))\n",
    "            print(\"Theta':\")\n",
    "            print(__cnf_to_str(theta_p))\n",
    "            print(\"Chi:\")\n",
    "            print(__cnf_to_str(chi))\n",
    "            print()\n",
    "\n",
    "        if n_models > 0 and opt_models >= n_models:\n",
    "            ctl.interrupt()\n",
    "        \n",
    "    ctl.solve(on_model=on_model)\n",
    "\n",
    "    return answer_set"
   ]
  },
  {
   "cell_type": "code",
   "execution_count": 4,
   "metadata": {},
   "outputs": [],
   "source": [
    "# Load Breast Cancer dataset\n",
    "breast_cancer = load_breast_cancer()\n",
    "df = pd.DataFrame(data=breast_cancer.data, columns=breast_cancer.feature_names)\n",
    "\n",
    "# Remove spaces in feature names\n",
    "df.columns = df.columns.str.replace(' ', '')\n",
    "\n",
    "# 1. Dataset\n",
    "\n",
    "df['target'] = breast_cancer.target\n",
    "X = df.drop(columns = ['target'], axis = 1)\n",
    "y = df['target']\n",
    "\n",
    "# Split the dataset into training and test sets\n",
    "X_train, X_test, y_train, y_test = train_test_split(X, y, test_size=0.2, random_state=42)"
   ]
  },
  {
   "cell_type": "code",
   "execution_count": 5,
   "metadata": {},
   "outputs": [
    {
     "name": "stdout",
     "output_type": "stream",
     "text": [
      "Accuracy: 0.9473684210526315\n"
     ]
    }
   ],
   "source": [
    "# Train a model.\n",
    "\n",
    "model = DecisionTreeClassifier(max_depth = 3, random_state = 42)\n",
    "model.fit(X_train, y_train)\n",
    "\n",
    "y_pred = model.predict(X_test)\n",
    "accuracy = accuracy_score(y_test, y_pred)\n",
    "print(\"Accuracy:\", accuracy)"
   ]
  },
  {
   "cell_type": "code",
   "execution_count": 6,
   "metadata": {},
   "outputs": [
    {
     "data": {
      "image/png": "[encoded data removed]",
      "text/plain": [
       "<Figure size 1200x800 with 1 Axes>"
      ]
     },
     "metadata": {},
     "output_type": "display_data"
    }
   ],
   "source": [
    "# Assuming model has been trained already, as per the given code\n",
    "plt.figure(figsize=(12, 8))\n",
    "plot_tree(model, filled=True, feature_names=X_train.columns)\n",
    "plt.title(\"Decision Tree\")\n",
    "plt.show()"
   ]
  },
  {
   "cell_type": "code",
   "execution_count": 7,
   "metadata": {},
   "outputs": [
    {
     "name": "stdout",
     "output_type": "stream",
     "text": [
      "Fact: -p1 | -p2 | p3 & -p1 | p2 | p4 & p1 | -p5 | p6 & p1 | p5 | -p7\n",
      "Foil: -p1 | -p2 | -p3 & -p1 | p2 | -p4 & p1 | -p5 | -p6 & p1 | p5 | p7\n",
      "\n"
     ]
    }
   ],
   "source": [
    "output = tree_to_cnf(model, X.columns)\n",
    "cnf1 = output['negative_cnf']\n",
    "cnf2 = output['positive_cnf']\n",
    "var_map = output['var_mapping']\n",
    "fact = __parse_cnf(cnf1)\n",
    "foil = __parse_cnf(cnf2)\n",
    "print(f'Fact: {cnf1}')\n",
    "print(f'Foil: {cnf2}')\n",
    "print()"
   ]
  },
  {
   "cell_type": "code",
   "execution_count": 8,
   "metadata": {},
   "outputs": [
    {
     "name": "stdout",
     "output_type": "stream",
     "text": [
      "p1: meanconcavepoints <= 0.0513\n",
      "p2: worstradius <= 16.83\n",
      "p3: areaerror <= 48.7\n",
      "p4: meantexture <= 16.19\n",
      "p5: worstconcavepoints <= 0.1465\n",
      "p6: worstperimeter <= 115.25\n",
      "p7: fractaldimensionerror <= 0.0129\n"
     ]
    }
   ],
   "source": [
    "for key, (feature, threshold) in var_map.items():\n",
    "    print(f'{key}: {feature} <= {threshold}')"
   ]
  },
  {
   "cell_type": "code",
   "execution_count": 9,
   "metadata": {},
   "outputs": [
    {
     "name": "stdout",
     "output_type": "stream",
     "text": [
      "Instance: p1 & p2 & p3 & -p4 & p5 & p6 & p7\n",
      "Prediction: 1\n"
     ]
    }
   ],
   "source": [
    "def evaluate_instance_against_vars(instance_as_dict, var_mapping):\n",
    "    result = {}\n",
    "    for var, (feature, threshold) in var_mapping.items():\n",
    "        result[var] = instance_as_dict[feature] <= threshold\n",
    "    return result\n",
    "\n",
    "# Compute explanations for positive predictions.\n",
    "index = np.random.choice(np.where(y_pred == 1)[0])\n",
    "instance = str()\n",
    "instance_as_dict = evaluate_instance_against_vars(X_test.iloc[index].to_dict(), var_map)\n",
    "for j in range(len(instance_as_dict.keys())):\n",
    "    key = list(instance_as_dict.keys())[j]\n",
    "    if j > 0:\n",
    "        instance += ' & '\n",
    "    if instance_as_dict[key] == 0:\n",
    "        instance += f'-{key}'\n",
    "    else:\n",
    "        instance += f'{key}'\n",
    "print(f'Instance: {instance}')\n",
    "_instance = __parse_cnf(instance)\n",
    "print(f'Prediction: {y_pred[index]}')"
   ]
  },
  {
   "cell_type": "code",
   "execution_count": 10,
   "metadata": {},
   "outputs": [
    {
     "name": "stdout",
     "output_type": "stream",
     "text": [
      "SOLUTION (cost [4, -2]):\n",
      "Theta:\n",
      "p3\n",
      "Theta':\n",
      "-p3\n",
      "Chi:\n",
      "p2  &  p1\n",
      "\n",
      "\n"
     ]
    }
   ],
   "source": [
    "encoding = ''.join(__cnf_to_facts(_instance,fact,foil))\n",
    "with open(ENC['CF_CE'], 'r') as f:\n",
    "    encoding += f.read()\n",
    "__clingo_solve(encoding, max_clauses = 7)\n",
    "print()"
   ]
  },
  {
   "cell_type": "code",
   "execution_count": 11,
   "metadata": {},
   "outputs": [
    {
     "data": {
      "text/plain": [
       "\"\\nencoding = ''.join(__cnf_to_facts(_instance,fact,foil))\\nwith open(ENC['CF_DIFF'], 'r') as f:\\n    encoding += f.read()\\n__clingo_solve(encoding, max_clauses = 7)\\nprint()\\n\""
      ]
     },
     "execution_count": 11,
     "metadata": {},
     "output_type": "execute_result"
    }
   ],
   "source": [
    "'''\n",
    "encoding = ''.join(__cnf_to_facts(_instance,fact,foil))\n",
    "with open(ENC['CF_DIFF'], 'r') as f:\n",
    "    encoding += f.read()\n",
    "__clingo_solve(encoding, max_clauses = 7)\n",
    "print()\n",
    "'''"
   ]
  },
  {
   "cell_type": "code",
   "execution_count": null,
   "metadata": {},
   "outputs": [
    {
     "name": "stdout",
     "output_type": "stream",
     "text": [
      "     checking_status_0<=X<200  checking_status_<0  checking_status_>=200  \\\n",
      "0                         0.0                 1.0                    0.0   \n",
      "1                         1.0                 0.0                    0.0   \n",
      "2                         0.0                 0.0                    0.0   \n",
      "3                         0.0                 1.0                    0.0   \n",
      "4                         0.0                 1.0                    0.0   \n",
      "..                        ...                 ...                    ...   \n",
      "995                       0.0                 0.0                    0.0   \n",
      "996                       0.0                 1.0                    0.0   \n",
      "997                       0.0                 0.0                    0.0   \n",
      "998                       0.0                 1.0                    0.0   \n",
      "999                       1.0                 0.0                    0.0   \n",
      "\n",
      "     checking_status_no checking  credit_history_all paid  \\\n",
      "0                            0.0                      0.0   \n",
      "1                            0.0                      0.0   \n",
      "2                            1.0                      0.0   \n",
      "3                            0.0                      0.0   \n",
      "4                            0.0                      0.0   \n",
      "..                           ...                      ...   \n",
      "995                          1.0                      0.0   \n",
      "996                          0.0                      0.0   \n",
      "997                          1.0                      0.0   \n",
      "998                          0.0                      0.0   \n",
      "999                          0.0                      0.0   \n",
      "\n",
      "     credit_history_critical/other existing credit  \\\n",
      "0                                              1.0   \n",
      "1                                              0.0   \n",
      "2                                              1.0   \n",
      "3                                              0.0   \n",
      "4                                              0.0   \n",
      "..                                             ...   \n",
      "995                                            0.0   \n",
      "996                                            0.0   \n",
      "997                                            0.0   \n",
      "998                                            0.0   \n",
      "999                                            1.0   \n",
      "\n",
      "     credit_history_delayed previously  credit_history_existing paid  \\\n",
      "0                                  0.0                           0.0   \n",
      "1                                  0.0                           1.0   \n",
      "2                                  0.0                           0.0   \n",
      "3                                  0.0                           1.0   \n",
      "4                                  1.0                           0.0   \n",
      "..                                 ...                           ...   \n",
      "995                                0.0                           1.0   \n",
      "996                                0.0                           1.0   \n",
      "997                                0.0                           1.0   \n",
      "998                                0.0                           1.0   \n",
      "999                                0.0                           0.0   \n",
      "\n",
      "     credit_history_no credits/all paid  purpose_business  ...  \\\n",
      "0                                   0.0               0.0  ...   \n",
      "1                                   0.0               0.0  ...   \n",
      "2                                   0.0               0.0  ...   \n",
      "3                                   0.0               0.0  ...   \n",
      "4                                   0.0               0.0  ...   \n",
      "..                                  ...               ...  ...   \n",
      "995                                 0.0               0.0  ...   \n",
      "996                                 0.0               0.0  ...   \n",
      "997                                 0.0               0.0  ...   \n",
      "998                                 0.0               0.0  ...   \n",
      "999                                 0.0               0.0  ...   \n",
      "\n",
      "     own_telephone_yes  foreign_worker_no  foreign_worker_yes  duration  \\\n",
      "0                  1.0                0.0                 1.0       6.0   \n",
      "1                  0.0                0.0                 1.0      48.0   \n",
      "2                  0.0                0.0                 1.0      12.0   \n",
      "3                  0.0                0.0                 1.0      42.0   \n",
      "4                  0.0                0.0                 1.0      24.0   \n",
      "..                 ...                ...                 ...       ...   \n",
      "995                0.0                0.0                 1.0      12.0   \n",
      "996                1.0                0.0                 1.0      30.0   \n",
      "997                0.0                0.0                 1.0      12.0   \n",
      "998                1.0                0.0                 1.0      45.0   \n",
      "999                0.0                0.0                 1.0      45.0   \n",
      "\n",
      "     credit_amount  installment_commitment  residence_since   age  \\\n",
      "0           1169.0                     4.0              4.0  67.0   \n",
      "1           5951.0                     2.0              2.0  22.0   \n",
      "2           2096.0                     2.0              3.0  49.0   \n",
      "3           7882.0                     2.0              4.0  45.0   \n",
      "4           4870.0                     3.0              4.0  53.0   \n",
      "..             ...                     ...              ...   ...   \n",
      "995         1736.0                     3.0              4.0  31.0   \n",
      "996         3857.0                     4.0              4.0  40.0   \n",
      "997          804.0                     4.0              4.0  38.0   \n",
      "998         1845.0                     4.0              4.0  23.0   \n",
      "999         4576.0                     3.0              4.0  27.0   \n",
      "\n",
      "     existing_credits  num_dependents  \n",
      "0                 2.0             1.0  \n",
      "1                 1.0             1.0  \n",
      "2                 1.0             2.0  \n",
      "3                 1.0             2.0  \n",
      "4                 2.0             2.0  \n",
      "..                ...             ...  \n",
      "995               1.0             1.0  \n",
      "996               1.0             1.0  \n",
      "997               1.0             1.0  \n",
      "998               1.0             1.0  \n",
      "999               1.0             1.0  \n",
      "\n",
      "[1000 rows x 61 columns]\n"
     ]
    }
   ],
   "source": [
    "# Load spambase\n",
    "dataset = openml.datasets.get_dataset(31)\n",
    "X, y, _, attribute_names = dataset.get_data(target=dataset.default_target_attribute)\n",
    "y_mapped = y.map({'good': 0, 'bad': 1})\n",
    "\n",
    "# 3. Identify categorical and numerical columns\n",
    "categorical_cols = X.select_dtypes(include=[\"category\", \"object\"]).columns.tolist()\n",
    "numerical_cols = X.select_dtypes(include=[\"number\", \"float\", \"int\"]).columns.tolist()\n",
    "\n",
    "# 4. Create the transformer\n",
    "preprocessor = ColumnTransformer(\n",
    "    transformers=[\n",
    "        ('cat', OneHotEncoder(handle_unknown='ignore', sparse_output=False), categorical_cols)\n",
    "    ],\n",
    "    remainder='passthrough'  # keep numerical columns\n",
    ")\n",
    "\n",
    "# 5. Apply transform to X directly\n",
    "X_transformed = preprocessor.fit_transform(X)\n",
    "\n",
    "# 6. Optional: get feature names\n",
    "ohe = preprocessor.named_transformers_['cat']\n",
    "encoded_feature_names = ohe.get_feature_names_out(categorical_cols)\n",
    "all_feature_names = list(encoded_feature_names) + numerical_cols\n",
    "\n",
    "# 7. Convert to DataFrame (optional)\n",
    "X_transformed_df = pd.DataFrame(X_transformed, columns=all_feature_names)\n",
    "\n",
    "# Split the dataset into training and test sets\n",
    "X_train, X_test, y_train, y_test = train_test_split(X_transformed_df, y_mapped, test_size=0.2, random_state=42)"
   ]
  },
  {
   "cell_type": "code",
   "execution_count": 47,
   "metadata": {},
   "outputs": [
    {
     "name": "stdout",
     "output_type": "stream",
     "text": [
      "Accuracy: 0.775\n"
     ]
    }
   ],
   "source": [
    "# Train a model.\n",
    "\n",
    "model = DecisionTreeClassifier(max_depth = 3, random_state = 42)\n",
    "model.fit(X_train, y_train)\n",
    "\n",
    "y_pred = model.predict(X_test)\n",
    "accuracy = accuracy_score(y_test, y_pred)\n",
    "print(\"Accuracy:\", accuracy)"
   ]
  },
  {
   "cell_type": "code",
   "execution_count": 49,
   "metadata": {},
   "outputs": [
    {
     "name": "stdout",
     "output_type": "stream",
     "text": [
      "Fact: -p1 | -p2 | -p3 & -p1 | p2 | -p4 & p1 | -p5 | -p6 & p1 | -p5 | p6 & p1 | p5 | -p7 & p1 | p5 | p7\n",
      "Foil: -p1 | -p2 | p3 & -p1 | p2 | p4\n",
      "\n"
     ]
    }
   ],
   "source": [
    "output = tree_to_cnf(model, X_transformed_df.columns)\n",
    "cnf1 = output['negative_cnf']\n",
    "cnf2 = output['positive_cnf']\n",
    "var_map = output['var_mapping']\n",
    "fact = __parse_cnf(cnf1)\n",
    "foil = __parse_cnf(cnf2)\n",
    "print(f'Fact: {cnf1}')\n",
    "print(f'Foil: {cnf2}')\n",
    "print()"
   ]
  },
  {
   "cell_type": "code",
   "execution_count": 50,
   "metadata": {},
   "outputs": [
    {
     "name": "stdout",
     "output_type": "stream",
     "text": [
      "p1: checking_status_no checking <= 0.5\n",
      "p2: duration <= 22.5\n",
      "p3: credit_history_all paid <= 0.5\n",
      "p4: savings_status_<100 <= 0.5\n",
      "p5: other_payment_plans_none <= 0.5\n",
      "p6: purpose_radio/tv <= 0.5\n",
      "p7: age <= 31.5\n"
     ]
    }
   ],
   "source": [
    "for key, (feature, threshold) in var_map.items():\n",
    "    print(f'{key}: {feature} <= {threshold}')"
   ]
  },
  {
   "cell_type": "code",
   "execution_count": 75,
   "metadata": {},
   "outputs": [
    {
     "name": "stdout",
     "output_type": "stream",
     "text": [
      "Instance: p1 & -p2 & p3 & -p4 & -p5 & p6 & -p7\n",
      "Prediction: 1\n"
     ]
    }
   ],
   "source": [
    "def evaluate_instance_against_vars(instance_as_dict, var_mapping):\n",
    "    result = {}\n",
    "    for var, (feature, threshold) in var_mapping.items():\n",
    "        result[var] = instance_as_dict[feature] <= threshold\n",
    "    return result\n",
    "\n",
    "# Compute explanations for positive predictions.\n",
    "index = np.random.choice(np.where(y_pred == 1)[0])\n",
    "instance = str()\n",
    "instance_as_dict = evaluate_instance_against_vars(X_test.iloc[index].to_dict(), var_map)\n",
    "for j in range(len(instance_as_dict.keys())):\n",
    "    key = list(instance_as_dict.keys())[j]\n",
    "    if j > 0:\n",
    "        instance += ' & '\n",
    "    if instance_as_dict[key] == 0:\n",
    "        instance += f'-{key}'\n",
    "    else:\n",
    "        instance += f'{key}'\n",
    "print(f'Instance: {instance}')\n",
    "_instance = __parse_cnf(instance)\n",
    "print(f'Prediction: {y_pred[index]}')"
   ]
  },
  {
   "cell_type": "code",
   "execution_count": 76,
   "metadata": {},
   "outputs": [
    {
     "name": "stdout",
     "output_type": "stream",
     "text": [
      "SOLUTION (cost [4, -2]):\n",
      "Theta:\n",
      "-p4\n",
      "Theta':\n",
      "p4\n",
      "Chi:\n",
      "-p2  &  p1\n",
      "\n",
      "\n"
     ]
    }
   ],
   "source": [
    "encoding = ''.join(__cnf_to_facts(_instance,fact,foil))\n",
    "with open(ENC['CF_CE'], 'r') as f:\n",
    "    encoding += f.read()\n",
    "__clingo_solve(encoding, max_clauses = 7)\n",
    "print()"
   ]
  }
 ],
 "metadata": {
  "kernelspec": {
   "display_name": "Python 3",
   "language": "python",
   "name": "python3"
  },
  "language_info": {
   "codemirror_mode": {
    "name": "ipython",
    "version": 3
   },
   "file_extension": ".py",
   "mimetype": "text/x-python",
   "name": "python",
   "nbconvert_exporter": "python",
   "pygments_lexer": "ipython3",
   "version": "3.12.2"
  }
 },
 "nbformat": 4,
 "nbformat_minor": 2
}
